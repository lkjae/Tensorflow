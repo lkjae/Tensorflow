{
 "cells": [
  {
   "cell_type": "code",
   "execution_count": 1,
   "metadata": {},
   "outputs": [],
   "source": [
    "import cv2"
   ]
  },
  {
   "cell_type": "code",
   "execution_count": 2,
   "metadata": {},
   "outputs": [
    {
     "name": "stdout",
     "output_type": "stream",
     "text": [
      "4.6.0\n"
     ]
    }
   ],
   "source": [
    "print(cv2.__version__)"
   ]
  },
  {
   "cell_type": "code",
   "execution_count": 3,
   "metadata": {},
   "outputs": [],
   "source": [
    "img = cv2.imread(\"./image/ieu-01.jpg\")"
   ]
  },
  {
   "cell_type": "code",
   "execution_count": 4,
   "metadata": {},
   "outputs": [
    {
     "data": {
      "text/plain": [
       "array([[[252, 254, 254],\n",
       "        [252, 254, 254],\n",
       "        [252, 254, 254],\n",
       "        ...,\n",
       "        [239, 248, 255],\n",
       "        [241, 249, 255],\n",
       "        [251, 255, 255]],\n",
       "\n",
       "       [[252, 254, 254],\n",
       "        [252, 254, 254],\n",
       "        [252, 254, 254],\n",
       "        ...,\n",
       "        [239, 248, 255],\n",
       "        [241, 249, 255],\n",
       "        [251, 255, 255]],\n",
       "\n",
       "       [[252, 254, 254],\n",
       "        [252, 254, 254],\n",
       "        [252, 254, 254],\n",
       "        ...,\n",
       "        [239, 248, 255],\n",
       "        [241, 249, 255],\n",
       "        [251, 255, 255]],\n",
       "\n",
       "       ...,\n",
       "\n",
       "       [[251, 253, 255],\n",
       "        [227, 235, 242],\n",
       "        [133, 148, 157],\n",
       "        ...,\n",
       "        [  5,  18,  20],\n",
       "        [196, 206, 206],\n",
       "        [253, 255, 255]],\n",
       "\n",
       "       [[243, 245, 253],\n",
       "        [224, 232, 239],\n",
       "        [154, 170, 177],\n",
       "        ...,\n",
       "        [ 20,  35,  37],\n",
       "        [186, 196, 196],\n",
       "        [251, 255, 255]],\n",
       "\n",
       "       [[247, 251, 255],\n",
       "        [228, 238, 245],\n",
       "        [159, 177, 184],\n",
       "        ...,\n",
       "        [ 49,  65,  71],\n",
       "        [191, 200, 203],\n",
       "        [251, 255, 255]]], dtype=uint8)"
      ]
     },
     "execution_count": 4,
     "metadata": {},
     "output_type": "execute_result"
    }
   ],
   "source": [
    "img"
   ]
  },
  {
   "cell_type": "code",
   "execution_count": 6,
   "metadata": {},
   "outputs": [],
   "source": [
    "gray_img = cv2.cvtColor(img, cv2.COLOR_BGR2GRAY)"
   ]
  },
  {
   "cell_type": "code",
   "execution_count": 9,
   "metadata": {},
   "outputs": [],
   "source": [
    "cv2.imshow(\"iu\", img)\n",
    "cv2.imshow(\"iu - gray\", gray_img)\n",
    "\n",
    "cv2.waitKey(0)  #아무키를 누를 때까지 delay\n",
    "cv2.destroyAllWindows() #윈도우를 없애버림"
   ]
  },
  {
   "cell_type": "code",
   "execution_count": null,
   "metadata": {},
   "outputs": [],
   "source": []
  }
 ],
 "metadata": {
  "kernelspec": {
   "display_name": "Python 3.7.13 ('cv_env')",
   "language": "python",
   "name": "python3"
  },
  "language_info": {
   "codemirror_mode": {
    "name": "ipython",
    "version": 3
   },
   "file_extension": ".py",
   "mimetype": "text/x-python",
   "name": "python",
   "nbconvert_exporter": "python",
   "pygments_lexer": "ipython3",
   "version": "3.7.13"
  },
  "orig_nbformat": 4,
  "vscode": {
   "interpreter": {
    "hash": "dbf320e9bce04ab36a6cfa079e6229946ca953ec9e5eb667406faf77e2dd4d96"
   }
  }
 },
 "nbformat": 4,
 "nbformat_minor": 2
}
